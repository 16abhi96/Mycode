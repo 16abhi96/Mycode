{
 "cells": [
  {
   "cell_type": "code",
   "execution_count": 1,
   "metadata": {
    "collapsed": true
   },
   "outputs": [],
   "source": [
    "class Player(object):\n",
    "    def __init__(self,wall=0,bet=0,name=\"player1\"):\n",
    "        self.wall=wall\n",
    "        self.bet=bet\n",
    "        self.name=name\n",
    "    def myname(self):\n",
    "        self.name=raw_input(\"What is your name Sir?\")\n",
    "    def wallet(self):\n",
    "        self.wall=int(raw_input(\"Enter the wallet amount...........\"))\n",
    "        print 'You have $%d into your wallet' %(self.wall)\n",
    "    def setbet(self):\n",
    "        self.bet=int(raw_input(\"What is your bet amount?\"))\n",
    "        if self.bet>self.wall:\n",
    "            print 'Sorry! You have not enough cash in your wallet'\n",
    "            return 0\n",
    "            \n",
    "        self.wall=self.wall-self.bet\n",
    "        print ' %s Cash left in your wallet is %d' %(self.name,self.wall)\n",
    "        print ' %s ,you are playing for $%d' %(self.name,self.bet)\n",
    "    def win(self):\n",
    "        self.wall+=2*self.bet\n",
    "        print '{nme},Your wallet now contains ${csh} '.format(nme=self.name,csh=self.wall)\n",
    "    def lost(self):\n",
    "        print 'cash left in your wallet ${csh}'.format(csh=self.wall)\n",
    "    def tie(self):\n",
    "        self.wall+=self.bet\n",
    "        print 'Cash in your wallet is ${csh}'.format(csh=self.wall)\n",
    "    def blackjackwin(self):\n",
    "        self.wall+=(self.bet+1.5*self.bet)\n",
    "        print 'Cash in your wallet is ${csh}'.format(csh=self.wall)\n",
    "    def doubledown(self):\n",
    "        temp=self.bet+self.wall\n",
    "        self.wall=self.wall-self.bet\n",
    "        self.bet=2*self.bet\n",
    "        \n",
    "        if self.bet>temp:\n",
    "            print \"wallet doesn't have enough cash\"\n",
    "            return 0\n",
    "    \n",
    "                     "
   ]
  },
  {
   "cell_type": "code",
   "execution_count": 2,
   "metadata": {
    "collapsed": true
   },
   "outputs": [],
   "source": [
    "import random\n",
    "class Deck(object):\n",
    "    cards={'A':1, '1':1,'2':2,'3':3,'4':4,'5':5,'6':6,'7':7,'8':8,'9':9,'10':10,'K':10,'Q':10,'J':10}\n",
    "    def __init__(self,playerhand=[],dealerhand=[],psum=0,dsum=0,count=0):\n",
    "        self.psum=psum\n",
    "        self.dsum=dsum\n",
    "        self.playerhand=playerhand\n",
    "        self.dealerhand=dealerhand\n",
    "        self.count=count\n",
    "    def player(self):\n",
    "        x=random.choice(Deck.cards.keys())\n",
    "        self.playerhand.append(x)\n",
    "            \n",
    "    def dealer(self):\n",
    "        y=random.choice(Deck.cards.keys())\n",
    "        self.dealerhand.append(y)\n",
    "    def sumo(self):\n",
    "        Deck.cards['A']=1\n",
    "        for x in self.playerhand:\n",
    "            if x=='A' and self.count==0:\n",
    "                valuefora=int(raw_input(\"Value of A is 1 or 11??\"))\n",
    "                Deck.cards['A']=valuefora\n",
    "            self.psum+=self.cards[x]\n",
    "            \n",
    "        if (self.dealerhand[0]=='A'or self.dealerhand[1]=='A')and self.dsum<12:\n",
    "            Deck.cards['A']=11\n",
    "        if self.dealerhand[0]==self.dealerhand[1]=='A':\n",
    "            self.dsum=12\n",
    "        else:\n",
    "            for y in self.dealerhand:\n",
    "                self.dsum+=self.cards[y]\n",
    "        self.count+=1\n",
    "    def refresh(self):\n",
    "        self.playerhand=[]\n",
    "        self.dealerhand=[]\n",
    "    def refreshsum(self):\n",
    "        self.psum=0\n",
    "        self.dsum=0\n",
    "        \n",
    "        "
   ]
  },
  {
   "cell_type": "code",
   "execution_count": 3,
   "metadata": {
    "collapsed": true
   },
   "outputs": [],
   "source": [
    "def check_winner():\n",
    "        if suit.psum>21:\n",
    "            print 'You busted'\n",
    "            player1.lost()\n",
    "            return False\n",
    "        \n",
    "        suit.dealer()\n",
    "        suit.sumo()\n",
    "        print 'Sir this is my both card :{k}'.format(k=suit.dealerhand)\n",
    "       \n",
    "        if suit.dsum<17:\n",
    "            print\"Dealer's card sum is less than 17|||throwing another card\"\n",
    "            suit.dealer()\n",
    "            print \"Dealer's hand is :{hnd}\".format(hnd=suit.dealerhand)\n",
    "            suit.refreshsum()\n",
    "            suit.sumo()\n",
    "            if suit.dsum>21:\n",
    "                print 'Dealer Busted'\n",
    "                player1.win()\n",
    "                return False\n",
    "          \n",
    "        if suit.psum>suit.dsum:\n",
    "            print'Conratulations You won!!!!!!!!!!!!!!!!!!!!!'\n",
    "            player1.win()\n",
    "        if suit.psum==suit.dsum:\n",
    "            print'This is a tie....'\n",
    "            player1.tie()\n",
    "        if suit.psum<suit.dsum:\n",
    "            print 'You lost...'\n",
    "            player1.lost()\n",
    "    "
   ]
  },
  {
   "cell_type": "code",
   "execution_count": 4,
   "metadata": {
    "collapsed": true
   },
   "outputs": [],
   "source": [
    "def split():\n",
    "    pass"
   ]
  },
  {
   "cell_type": "code",
   "execution_count": 5,
   "metadata": {
    "collapsed": true
   },
   "outputs": [],
   "source": [
    "def playblackjack():\n",
    "    print 'Welcome Sir to The Most Popular cassino!!!!!!!!!'\n",
    "    global player1\n",
    "    player1=Player()\n",
    "    player1.myname()\n",
    "    player1.wallet()\n",
    "    while player1.wall!=0:\n",
    "        if player1.setbet()==0:\n",
    "            return False\n",
    "        print 'Distributing cards.....................'\n",
    "        print '.......................................'\n",
    "        global suit\n",
    "        suit=Deck()\n",
    "        suit.refresh()\n",
    "        suit.dealer()\n",
    "        print 'Dealer cards are {c} and X'.format(c=suit.dealerhand)\n",
    "        print'........................'\n",
    "        for x in range(2):\n",
    "            suit.player()\n",
    "        print '{nme} your hand is {phand}'.format(nme=player1.name ,phand=suit.playerhand)\n",
    "        #if (suit.playerhand[0]=='A' and suit.playerhand[1]=='K'or'J'or'Q') or (suit.playerhand[0]=='K'or'J'or'Q' and suit.playerhand[1]=='A'):\n",
    "           # print 'Congrats!!!{nme} You hit a blackjack'.format(nme=player1.name)\n",
    "            #player1.blackjackwin()\n",
    "            #return\n",
    "        if suit.cards[suit.playerhand[0]]==suit.cards[suit.playerhand[1]]:\n",
    "            spl=raw_input(\"Do you want to split???\")\n",
    "            if spl=='yes' or 'y':\n",
    "                split()\n",
    "        ddown=str(raw_input(\"Do you want to double down?\"))\n",
    "        if ddown == \"yes\":\n",
    "            if player1.doubledown()==0:\n",
    "                break\n",
    "            suit.player()\n",
    "            print \"Your's hand is {phnd}:\".format(phnd=suit.playerhand)\n",
    "            print 'New bet amount is {nbet}:'.format(nbet=player1.bet)\n",
    "            check_winner()\n",
    "            continue\n",
    "       # else:\n",
    "        while True:\n",
    "           \n",
    "            option=raw_input(\"want to hit or stand???\")\n",
    "            if option=='hit':\n",
    "                suit.player()\n",
    "                tempsum=0\n",
    "                print 'Your hand is now:' ,suit.playerhand\n",
    "                for x in suit.playerhand:\n",
    "                    tempsum+=suit.cards[x]\n",
    "                    if(tempsum>21):\n",
    "                        print 'You are busted.'\n",
    "                        player1.lost()\n",
    "                        return False\n",
    "               \n",
    "            else:\n",
    "                break\n",
    "        check_winner()\n",
    "        \n",
    "        \n",
    "        \n",
    "        \n",
    "        \n",
    "    \n",
    "    \n",
    "    \n",
    "    "
   ]
  },
  {
   "cell_type": "code",
   "execution_count": 6,
   "metadata": {},
   "outputs": [
    {
     "name": "stdout",
     "output_type": "stream",
     "text": [
      "Welcome Sir to The Most Popular cassino!!!!!!!!!\n",
      "What is your name Sir?Abhishek\n",
      "Enter the wallet amount...........700\n",
      "You have $700 into your wallet\n",
      "What is your bet amount?300\n",
      " Abhishek Cash left in your wallet is 400\n",
      " Abhishek ,you are playing for $300\n",
      "Distributing cards.....................\n",
      ".......................................\n",
      "Dealer cards are ['8'] and X\n",
      "........................\n",
      "Abhishek your hand is ['1', 'J']\n",
      "Do you want to double down?yes\n",
      "Your's hand is ['1', 'J', '1']:\n",
      "New bet amount is 600:\n",
      "Sir this is my both card :['8', '7']\n",
      "Dealer's card sum is less than 17|||throwing another card\n",
      "Dealer's hand is :['8', '7', '2']\n",
      "You lost...\n",
      "cash left in your wallet $100\n",
      "What is your bet amount?40\n",
      " Abhishek Cash left in your wallet is 60\n",
      " Abhishek ,you are playing for $40\n",
      "Distributing cards.....................\n",
      ".......................................\n",
      "Dealer cards are ['K'] and X\n",
      "........................\n",
      "Abhishek your hand is ['4', 'Q']\n",
      "Do you want to double down?yes\n",
      "Your's hand is ['4', 'Q', '8']:\n",
      "New bet amount is 80:\n",
      "Sir this is my both card :['K', 'A']\n",
      "Conratulations You won!!!!!!!!!!!!!!!!!!!!!\n",
      "Abhishek,Your wallet now contains $180 \n",
      "What is your bet amount?80\n",
      " Abhishek Cash left in your wallet is 100\n",
      " Abhishek ,you are playing for $80\n",
      "Distributing cards.....................\n",
      ".......................................\n",
      "Dealer cards are ['A'] and X\n",
      "........................\n",
      "Abhishek your hand is ['9', '7']\n",
      "Do you want to double down?no\n",
      "want to hit or stand???hit\n",
      "Your hand is now: ['9', '7', 'K']\n",
      "You are busted.\n",
      "cash left in your wallet $100\n"
     ]
    },
    {
     "data": {
      "text/plain": [
       "False"
      ]
     },
     "execution_count": 6,
     "metadata": {},
     "output_type": "execute_result"
    }
   ],
   "source": [
    "playblackjack()\n",
    "    "
   ]
  },
  {
   "cell_type": "code",
   "execution_count": 1,
   "metadata": {},
   "outputs": [
    {
     "data": {
      "text/plain": [
       "u'C:\\\\Users\\\\abhi'"
      ]
     },
     "execution_count": 1,
     "metadata": {},
     "output_type": "execute_result"
    }
   ],
   "source": [
    "pwd\n"
   ]
  },
  {
   "cell_type": "code",
   "execution_count": null,
   "metadata": {
    "collapsed": true
   },
   "outputs": [],
   "source": []
  }
 ],
 "metadata": {
  "kernelspec": {
   "display_name": "Python 2",
   "language": "python",
   "name": "python2"
  },
  "language_info": {
   "codemirror_mode": {
    "name": "ipython",
    "version": 2
   },
   "file_extension": ".py",
   "mimetype": "text/x-python",
   "name": "python",
   "nbconvert_exporter": "python",
   "pygments_lexer": "ipython2",
   "version": "2.7.13"
  }
 },
 "nbformat": 4,
 "nbformat_minor": 2
}
